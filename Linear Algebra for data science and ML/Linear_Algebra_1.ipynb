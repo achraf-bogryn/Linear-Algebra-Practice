{
  "nbformat": 4,
  "nbformat_minor": 0,
  "metadata": {
    "colab": {
      "provenance": [],
      "toc_visible": true
    },
    "kernelspec": {
      "name": "python3",
      "display_name": "Python 3"
    },
    "language_info": {
      "name": "python"
    }
  },
  "cells": [
    {
      "cell_type": "markdown",
      "source": [
        "# Linear Algebra for Machine Learning and Data Science Week 1  "
      ],
      "metadata": {
        "id": "jJgCPrZibiOm"
      }
    },
    {
      "cell_type": "markdown",
      "source": [
        "## Solving Linear Systems: 2 variables\n",
        "\n",
        "* Use NumPy linear algebra package to find the solutions of the system of linear equations\n",
        "* Find the solution for the system of linear equations using elimination method\n",
        "* Evaluate the determinant of the matrix and examine the relationship between matrix singularity and number of solutions of the linear system"
      ],
      "metadata": {
        "id": "C0CzjEmfcXZ8"
      }
    },
    {
      "cell_type": "markdown",
      "source": [
        "### Solving Systems of Linear Equations using Matrices\n",
        "\n",
        "Linear systems with two equations are easy to solve manually, but preparing for more complicated cases, you will investigate some solution techniques.\n",
        "\n",
        "NumPy linear algebra package provides quick and reliable way to solve the system of linear equations using function `np.linalg.solve(A, b)`."
      ],
      "metadata": {
        "id": "bmpN0lescudL"
      }
    },
    {
      "cell_type": "code",
      "source": [
        "import numpy as np"
      ],
      "metadata": {
        "id": "DykgXp-XcAA3"
      },
      "execution_count": 1,
      "outputs": []
    },
    {
      "cell_type": "code",
      "source": [
        "A=np.array([[1,1],[1,2]],dtype=np.dtype(float))\n",
        "b=np.array([10,12],dtype=np.dtype(float))"
      ],
      "metadata": {
        "id": "ZjVY_1_QcAbK"
      },
      "execution_count": 23,
      "outputs": []
    },
    {
      "cell_type": "code",
      "source": [
        "print(\"Mattrix A: \",A)\n",
        "print(\"\\nArray b: \",b)"
      ],
      "metadata": {
        "colab": {
          "base_uri": "https://localhost:8080/"
        },
        "id": "0XBOhYWbdqco",
        "outputId": "494b1be2-9723-48c4-cb63-6f0315794906"
      },
      "execution_count": 24,
      "outputs": [
        {
          "output_type": "stream",
          "name": "stdout",
          "text": [
            "Mattrix A:  [[1. 1.]\n",
            " [1. 2.]]\n",
            "\n",
            "Array b:  [10. 12.]\n"
          ]
        }
      ]
    },
    {
      "cell_type": "code",
      "source": [
        "# Check dimension of A and b using Shape Function\n",
        "print(f\"Shape of A: {A.shape}\")\n",
        "print(f\"Shape of b: {b.shape}\")"
      ],
      "metadata": {
        "colab": {
          "base_uri": "https://localhost:8080/"
        },
        "id": "xzmd0C0ScAjX",
        "outputId": "7d46e414-34d3-4906-95a4-debe37a34f4a"
      },
      "execution_count": 25,
      "outputs": [
        {
          "output_type": "stream",
          "name": "stdout",
          "text": [
            "Shape of A: (2, 2)\n",
            "Shape of b: (2,)\n"
          ]
        }
      ]
    },
    {
      "cell_type": "markdown",
      "source": [
        "Now simply use `np.linalg.solve(A, b)` function to find the solution of the system\n",
        "* The result will be saved in the 1-D array\n",
        "* The elements will correspond to the values of two varibale `x1` and `x2`"
      ],
      "metadata": {
        "id": "Tw2vwqsDeOxr"
      }
    },
    {
      "cell_type": "code",
      "source": [
        "X=np.linalg.solve(A,b)\n",
        "print(\"Solution of the system: \",X)"
      ],
      "metadata": {
        "colab": {
          "base_uri": "https://localhost:8080/"
        },
        "id": "kd-rzBkxeetD",
        "outputId": "005d3da1-98d2-4efc-e29e-faa1883febe0"
      },
      "execution_count": 26,
      "outputs": [
        {
          "output_type": "stream",
          "name": "stdout",
          "text": [
            "Solution of the system:  [8. 2.]\n"
          ]
        }
      ]
    },
    {
      "cell_type": "markdown",
      "source": [
        "This is `Non-singular` system , thta we two pieces of information mean two solution"
      ],
      "metadata": {
        "id": "2ZXiHFdRe4wH"
      }
    },
    {
      "cell_type": "markdown",
      "source": [
        "### 1.3 - Evaluating Determinant of a Matrix\n",
        "Matrix `A` corresponding to the linear system is a square matrix - it has the same number of rows and columns. In case of a square matrix it is possible to calculate its determinant - a real number which characterizes some properties of the matrix. Linear system containing two (or more) equations with the same number of unknown variables will `have one solution if and only if matrix\n",
        " has non-zero determinant`.\n",
        "\n",
        "Let's calculate the determinant using NumPy linear algebra package. You can do it with the np.linalg.det(A) function. More information about it can be found in documentation."
      ],
      "metadata": {
        "id": "BPir2sOXhEYK"
      }
    },
    {
      "cell_type": "code",
      "source": [
        "# if det have no zero value that mean system have unique solution\n",
        "# if det equals to zero in this case we have two possiblity  infinitie solution or Non solution\n",
        "d=np.linalg.det(A)\n",
        "print(\"Determinant of A: \",d)"
      ],
      "metadata": {
        "colab": {
          "base_uri": "https://localhost:8080/"
        },
        "id": "2N8xUqUaeLXz",
        "outputId": "5463e956-e93c-4f5e-fb79-23f6afd11050"
      },
      "execution_count": 27,
      "outputs": [
        {
          "output_type": "stream",
          "name": "stdout",
          "text": [
            "Determinant of A:  1.0\n"
          ]
        }
      ]
    },
    {
      "cell_type": "markdown",
      "source": [
        "## Solving System of Linear Equations using Elimination Method"
      ],
      "metadata": {
        "id": "EoyZ3pB7iKWy"
      }
    },
    {
      "cell_type": "markdown",
      "source": [
        "You can see how easy it is to use contemporary packages to solve linear equations. However, for deeper understanding of mathematical concepts, it is important to practice some solution techniques manually. Programming approach can still help here to reduce the amount of arithmetical calculations, and focus on the method itself."
      ],
      "metadata": {
        "id": "-ix_-QZ9jOt5"
      }
    },
    {
      "cell_type": "markdown",
      "source": [
        "### Preparation for the Implementation of Elimination Method in the Code\n",
        "Representing the system in a matrix form as you can apply the same operations to the rows of the matrix with Python code. Unify matrix and array\n",
        "into one matrix using `np.hstack()` function. Note that the shape of the originally defined array was to stack it with the matrix you need to use\n",
        " `.reshape((2, 1))` function:"
      ],
      "metadata": {
        "id": "iU7BNBTjjQa3"
      }
    },
    {
      "cell_type": "markdown",
      "source": [
        "In NumPy, the `np.hstack()` function is used to horizontally stack arrays. It combines multiple arrays along the second axis (columns), provided the arrays have the same shape along the first axis (rows).\n",
        "\n",
        "* Key Characteristics:\n",
        "  1. `Purpose`: Concatenates arrays along the horizontal axis.\n",
        "  2. `Shape Requirement`: Arrays must have the same number of rows (or be broadcastable to the same shape).\n",
        "  3. `Result`: A new array formed by placing the input arrays side-by-side."
      ],
      "metadata": {
        "id": "U0EkUAc7k9eB"
      }
    },
    {
      "cell_type": "code",
      "source": [
        "A , b"
      ],
      "metadata": {
        "colab": {
          "base_uri": "https://localhost:8080/"
        },
        "id": "C4h37xwNjLJL",
        "outputId": "8aeaa021-e017-4f26-f66e-ffe320ba6e3e"
      },
      "execution_count": 28,
      "outputs": [
        {
          "output_type": "execute_result",
          "data": {
            "text/plain": [
              "(array([[1., 1.],\n",
              "        [1., 2.]]),\n",
              " array([10., 12.]))"
            ]
          },
          "metadata": {},
          "execution_count": 28
        }
      ]
    },
    {
      "cell_type": "code",
      "source": [
        "A_system = np.hstack((A, b.reshape((2, 1))))\n",
        "print(A_system)"
      ],
      "metadata": {
        "colab": {
          "base_uri": "https://localhost:8080/"
        },
        "id": "WQy0mdOHiFEc",
        "outputId": "8f573d5d-290d-4363-cc6c-7f644b127ec1"
      },
      "execution_count": 48,
      "outputs": [
        {
          "output_type": "stream",
          "name": "stdout",
          "text": [
            "[[ 1.  1. 10.]\n",
            " [ 1.  2. 12.]]\n"
          ]
        }
      ]
    },
    {
      "cell_type": "markdown",
      "source": [
        "### Implementation of Elimination Method"
      ],
      "metadata": {
        "id": "4zuaSnW5mWvo"
      }
    },
    {
      "cell_type": "code",
      "source": [
        "# Function .copy() is used to keep the original matrix without any changes.\n",
        "A_system_copy = A_system.copy()"
      ],
      "metadata": {
        "id": "6qPHHdgVcAr7"
      },
      "execution_count": 30,
      "outputs": []
    },
    {
      "cell_type": "code",
      "source": [
        "A_system_copy[1]=A_system_copy[1]-A_system_copy[0]\n",
        "A_system_copy"
      ],
      "metadata": {
        "colab": {
          "base_uri": "https://localhost:8080/"
        },
        "id": "MZPytEqucA60",
        "outputId": "4b62cb15-009b-4e6f-8586-755c59b18e0b"
      },
      "execution_count": 31,
      "outputs": [
        {
          "output_type": "execute_result",
          "data": {
            "text/plain": [
              "array([[ 1.,  1., 10.],\n",
              "       [ 0.,  1.,  2.]])"
            ]
          },
          "metadata": {},
          "execution_count": 31
        }
      ]
    },
    {
      "cell_type": "code",
      "source": [
        "# Lets try system of three variables\n",
        "A3=np.array([[1,1,2],[3,-3,-1],[2,-1,6]],dtype=np.dtype(float))\n",
        "b3=np.array([12,13,24],dtype=np.dtype(float))"
      ],
      "metadata": {
        "id": "zCy8y-8GcDdJ"
      },
      "execution_count": 43,
      "outputs": []
    },
    {
      "cell_type": "code",
      "source": [
        "A3 , b3"
      ],
      "metadata": {
        "colab": {
          "base_uri": "https://localhost:8080/"
        },
        "id": "967k2aILcDmz",
        "outputId": "a2ae5345-914e-4001-9e97-0e41f1300585"
      },
      "execution_count": 44,
      "outputs": [
        {
          "output_type": "execute_result",
          "data": {
            "text/plain": [
              "(array([[ 1.,  1.,  2.],\n",
              "        [ 3., -3., -1.],\n",
              "        [ 2., -1.,  6.]]),\n",
              " array([12., 13., 24.]))"
            ]
          },
          "metadata": {},
          "execution_count": 44
        }
      ]
    },
    {
      "cell_type": "code",
      "source": [
        "det=np.linalg.det(A3)\n",
        "det"
      ],
      "metadata": {
        "colab": {
          "base_uri": "https://localhost:8080/"
        },
        "id": "MzzuANfVcDy4",
        "outputId": "b64d5004-b297-4a47-aaa9-1c01d786b0f2"
      },
      "execution_count": 45,
      "outputs": [
        {
          "output_type": "execute_result",
          "data": {
            "text/plain": [
              "-33.0"
            ]
          },
          "metadata": {},
          "execution_count": 45
        }
      ]
    },
    {
      "cell_type": "code",
      "source": [
        "solve=np.linalg.solve(A3,b3)\n",
        "solve"
      ],
      "metadata": {
        "colab": {
          "base_uri": "https://localhost:8080/"
        },
        "id": "uxhVbOwVcD8Z",
        "outputId": "2243bba2-2618-465c-9753-97a3f000b5e1"
      },
      "execution_count": 46,
      "outputs": [
        {
          "output_type": "execute_result",
          "data": {
            "text/plain": [
              "array([6.42424242, 1.39393939, 2.09090909])"
            ]
          },
          "metadata": {},
          "execution_count": 46
        }
      ]
    },
    {
      "cell_type": "code",
      "source": [
        "A3_system = np.hstack((A3, b3.reshape((3, 1))))\n",
        "print(A3_system)"
      ],
      "metadata": {
        "colab": {
          "base_uri": "https://localhost:8080/"
        },
        "id": "1OpJ4WExcEGl",
        "outputId": "d8241a1e-bb57-47e9-8966-8ac7a3c4c9c4"
      },
      "execution_count": 49,
      "outputs": [
        {
          "output_type": "stream",
          "name": "stdout",
          "text": [
            "[[ 1.  1.  2. 12.]\n",
            " [ 3. -3. -1. 13.]\n",
            " [ 2. -1.  6. 24.]]\n"
          ]
        }
      ]
    },
    {
      "cell_type": "code",
      "source": [
        "A3_system_copy = A3_system.copy()"
      ],
      "metadata": {
        "id": "uZmSnL9RoyqH"
      },
      "execution_count": 97,
      "outputs": []
    },
    {
      "cell_type": "code",
      "source": [
        "A3_system_copy[2]=A3_system_copy[2]-2*A3_system_copy[0]\n",
        "A3_system_copy"
      ],
      "metadata": {
        "colab": {
          "base_uri": "https://localhost:8080/"
        },
        "id": "1SbYQf8go2Q1",
        "outputId": "edf7fdc8-a9d4-40cb-b79b-135b26c2848f"
      },
      "execution_count": 98,
      "outputs": [
        {
          "output_type": "execute_result",
          "data": {
            "text/plain": [
              "array([[ 1.,  1.,  2., 12.],\n",
              "       [ 3., -3., -1., 13.],\n",
              "       [ 0., -3.,  2.,  0.]])"
            ]
          },
          "metadata": {},
          "execution_count": 98
        }
      ]
    },
    {
      "cell_type": "code",
      "source": [
        "A3_system_copy[1]=A3_system_copy[1]-3*A3_system_copy[0]\n",
        "A3_system_copy"
      ],
      "metadata": {
        "colab": {
          "base_uri": "https://localhost:8080/"
        },
        "id": "Y60baxcTpdFc",
        "outputId": "40a68bc8-12e2-4e81-f689-9dade23e0a6c"
      },
      "execution_count": 99,
      "outputs": [
        {
          "output_type": "execute_result",
          "data": {
            "text/plain": [
              "array([[  1.,   1.,   2.,  12.],\n",
              "       [  0.,  -6.,  -7., -23.],\n",
              "       [  0.,  -3.,   2.,   0.]])"
            ]
          },
          "metadata": {},
          "execution_count": 99
        }
      ]
    },
    {
      "cell_type": "code",
      "source": [
        "A3_system_copy[2]=A3_system_copy[2] - A3_system_copy[1]/2\n",
        "A3_system_copy"
      ],
      "metadata": {
        "colab": {
          "base_uri": "https://localhost:8080/"
        },
        "id": "Fw4z5FYapsY5",
        "outputId": "b69c02ed-b0e1-4e41-f366-b122a0b54aa9"
      },
      "execution_count": 100,
      "outputs": [
        {
          "output_type": "execute_result",
          "data": {
            "text/plain": [
              "array([[  1. ,   1. ,   2. ,  12. ],\n",
              "       [  0. ,  -6. ,  -7. , -23. ],\n",
              "       [  0. ,   0. ,   5.5,  11.5]])"
            ]
          },
          "metadata": {},
          "execution_count": 100
        }
      ]
    },
    {
      "cell_type": "code",
      "source": [
        "A3_system_copy[2]=A3_system_copy[2]/5.5\n",
        "A3_system_copy"
      ],
      "metadata": {
        "colab": {
          "base_uri": "https://localhost:8080/"
        },
        "id": "it_Zp0deqQ4T",
        "outputId": "852d69fc-06d1-4cba-d224-a9fdd8d9ba49"
      },
      "execution_count": 101,
      "outputs": [
        {
          "output_type": "execute_result",
          "data": {
            "text/plain": [
              "array([[  1.        ,   1.        ,   2.        ,  12.        ],\n",
              "       [  0.        ,  -6.        ,  -7.        , -23.        ],\n",
              "       [  0.        ,   0.        ,   1.        ,   2.09090909]])"
            ]
          },
          "metadata": {},
          "execution_count": 101
        }
      ]
    },
    {
      "cell_type": "code",
      "source": [
        "A3_system_copy[1]=A3_system_copy[1]/6\n",
        "A3_system_copy"
      ],
      "metadata": {
        "colab": {
          "base_uri": "https://localhost:8080/"
        },
        "id": "vhrYGdVUqktc",
        "outputId": "f4ca9673-367a-4e12-8be2-59519dc7bfe3"
      },
      "execution_count": 102,
      "outputs": [
        {
          "output_type": "execute_result",
          "data": {
            "text/plain": [
              "array([[ 1.        ,  1.        ,  2.        , 12.        ],\n",
              "       [ 0.        , -1.        , -1.16666667, -3.83333333],\n",
              "       [ 0.        ,  0.        ,  1.        ,  2.09090909]])"
            ]
          },
          "metadata": {},
          "execution_count": 102
        }
      ]
    },
    {
      "cell_type": "code",
      "source": [
        "A3_system_copy[1]=A3_system_copy[2]-A3_system_copy[1]\n",
        "A3_system_copy\n"
      ],
      "metadata": {
        "colab": {
          "base_uri": "https://localhost:8080/"
        },
        "id": "I4WeswkErZ9M",
        "outputId": "bef7d484-405d-4455-e770-7ac1debe1512"
      },
      "execution_count": 105,
      "outputs": [
        {
          "output_type": "execute_result",
          "data": {
            "text/plain": [
              "array([[ 1.        ,  1.        ,  2.        , 12.        ],\n",
              "       [ 0.        ,  1.        ,  2.16666667,  5.92424242],\n",
              "       [ 0.        ,  0.        ,  1.        ,  2.09090909]])"
            ]
          },
          "metadata": {},
          "execution_count": 105
        }
      ]
    },
    {
      "cell_type": "code",
      "source": [
        "solve"
      ],
      "metadata": {
        "colab": {
          "base_uri": "https://localhost:8080/"
        },
        "id": "oyCpk_0mr28z",
        "outputId": "fdbaf422-ebbe-4714-cf49-4ae67fa2df2e"
      },
      "execution_count": 106,
      "outputs": [
        {
          "output_type": "execute_result",
          "data": {
            "text/plain": [
              "array([6.42424242, 1.39393939, 2.09090909])"
            ]
          },
          "metadata": {},
          "execution_count": 106
        }
      ]
    },
    {
      "cell_type": "markdown",
      "source": [
        "##  Graphical Representation of the Solution\n",
        "A linear equation in two variables (here `x1` and `x2`)  is represented geometrically by a line which points (`x1` , `x2`)make up the collection of solutions of the equation. This is called the graph of the linear equation. In case of the system of two equations there will be two lines corresponding to each of the equations, and the solution will be the intersection point of those lines.\n",
        "\n",
        "In the following code you will define a function `plot_lines()` to plot the lines and use it later to represent the solution which you found earlier. Do not worry if the code in the following cell will not be clear - at this stage this is not important code to understand."
      ],
      "metadata": {
        "id": "WtnL1ALf2_40"
      }
    },
    {
      "cell_type": "code",
      "source": [
        "import matplotlib.pyplot as plt\n",
        "\n",
        "def plot_lines(M):\n",
        "    x_1 = np.linspace(-10,10,100)\n",
        "    x_2_line_1 = (M[0,2] - M[0,0] * x_1) / M[0,1]\n",
        "    x_2_line_2 = (M[1,2] - M[1,0] * x_1) / M[1,1]\n",
        "\n",
        "    _, ax = plt.subplots(figsize=(10, 10))\n",
        "    ax.plot(x_1, x_2_line_1, '-', linewidth=2, color='#0075ff',\n",
        "        label=f'$x_2={-M[0,0]/M[0,1]:.2f}x_1 + {M[0,2]/M[0,1]:.2f}$')\n",
        "    ax.plot(x_1, x_2_line_2, '-', linewidth=2, color='#ff7300',\n",
        "        label=f'$x_2={-M[1,0]/M[1,1]:.2f}x_1 + {M[1,2]/M[1,1]:.2f}$')\n",
        "\n",
        "    A = M[:, 0:-1]\n",
        "    b = M[:, -1::].flatten()\n",
        "    d = np.linalg.det(A)\n",
        "\n",
        "    if d != 0:\n",
        "        solution = np.linalg.solve(A,b)\n",
        "        ax.plot(solution[0], solution[1], '-o', mfc='none',\n",
        "            markersize=10, markeredgecolor='#ff0000', markeredgewidth=2)\n",
        "        ax.text(solution[0]-0.25, solution[1]+0.75, f'$(${solution[0]:.0f}$,{solution[1]:.0f})$', fontsize=14)\n",
        "    ax.tick_params(axis='x', labelsize=14)\n",
        "    ax.tick_params(axis='y', labelsize=14)\n",
        "    ax.set_xticks(np.arange(-10, 10))\n",
        "    ax.set_yticks(np.arange(-10, 10))\n",
        "\n",
        "    plt.xlabel('$x_1$', size=14)\n",
        "    plt.ylabel('$x_2$', size=14)\n",
        "    plt.legend(loc='upper right', fontsize=14)\n",
        "    plt.axis([-10, 10, -10, 10])\n",
        "\n",
        "    plt.grid()\n",
        "    plt.gca().set_aspect(\"equal\")\n",
        "\n",
        "    plt.show()"
      ],
      "metadata": {
        "id": "K2z_xLgm3SUu"
      },
      "execution_count": 107,
      "outputs": []
    },
    {
      "cell_type": "code",
      "source": [
        "plot_lines(A_system)"
      ],
      "metadata": {
        "colab": {
          "base_uri": "https://localhost:8080/",
          "height": 860
        },
        "id": "55QwgGnW3YhX",
        "outputId": "30e7370c-5793-4260-9a90-a83d780b1431"
      },
      "execution_count": 110,
      "outputs": [
        {
          "output_type": "display_data",
          "data": {
            "text/plain": [
              "<Figure size 1000x1000 with 1 Axes>"
            ],
            "image/png": "[encoded data removed]"
          },
          "metadata": {}
        }
      ]
    },
    {
      "cell_type": "markdown",
      "source": [
        "## System of Linear Equations with No Solutions"
      ],
      "metadata": {
        "id": "UPc-WZps5OaH"
      }
    },
    {
      "cell_type": "code",
      "source": [
        "A_2 = np.array([\n",
        "        [-1, 3],\n",
        "        [3, -9]\n",
        "    ], dtype=np.dtype(float))\n",
        "\n",
        "b_2 = np.array([7, 1], dtype=np.dtype(float))\n",
        "\n",
        "d_2 = np.linalg.det(A_2)\n",
        "\n",
        "print(f\"Determinant of matrix A_2: {d_2:.2f}\")"
      ],
      "metadata": {
        "colab": {
          "base_uri": "https://localhost:8080/"
        },
        "id": "qQwGPPPb5RU1",
        "outputId": "7126f3cc-1569-4607-9840-99efe2a57cd3"
      },
      "execution_count": 111,
      "outputs": [
        {
          "output_type": "stream",
          "name": "stdout",
          "text": [
            "Determinant of matrix A_2: 0.00\n"
          ]
        }
      ]
    },
    {
      "cell_type": "markdown",
      "source": [
        "It is equal to zero, thus the system cannot have one unique solution. It will have either infinitely many solutions or none. The consistency of it will depend on the free coefficients (right side coefficients). You can run the code in the following cell to check that the np.linalg.solve() function will give an error due to singularity."
      ],
      "metadata": {
        "id": "5UlADpgF5Wi2"
      }
    },
    {
      "cell_type": "code",
      "source": [
        "try:\n",
        "    x_2 = np.linalg.solve(A_2, b_2)\n",
        "except np.linalg.LinAlgError as err:\n",
        "    print(err)"
      ],
      "metadata": {
        "colab": {
          "base_uri": "https://localhost:8080/"
        },
        "id": "QjTd_WrH5XRb",
        "outputId": "90e386dc-7579-454c-f5bf-afceeadb5900"
      },
      "execution_count": 112,
      "outputs": [
        {
          "output_type": "stream",
          "name": "stdout",
          "text": [
            "Singular matrix\n"
          ]
        }
      ]
    },
    {
      "cell_type": "markdown",
      "source": [
        "Prepare to apply the elimination method, constructing the matrix, corresponding to this linear system:"
      ],
      "metadata": {
        "id": "m0sRIXqV5k6U"
      }
    },
    {
      "cell_type": "code",
      "source": [
        "A_2_system = np.hstack((A_2, b_2.reshape((2, 1))))\n",
        "print(A_2_system)"
      ],
      "metadata": {
        "colab": {
          "base_uri": "https://localhost:8080/"
        },
        "id": "-nIDx9Nn5STp",
        "outputId": "f6b60c9d-1047-4483-f144-83ecc953f248"
      },
      "execution_count": 113,
      "outputs": [
        {
          "output_type": "stream",
          "name": "stdout",
          "text": [
            "[[-1.  3.  7.]\n",
            " [ 3. -9.  1.]]\n"
          ]
        }
      ]
    },
    {
      "cell_type": "code",
      "source": [
        "# copy() matrix.\n",
        "A_2_system_res = A_2_system.copy()\n",
        "\n",
        "# Multiply row 0 by 3 and add it to the row 1.\n",
        "A_2_system_res[1] = 3 * A_2_system_res[0] + A_2_system_res[1]\n",
        "print(A_2_system_res)"
      ],
      "metadata": {
        "colab": {
          "base_uri": "https://localhost:8080/"
        },
        "id": "SRaoZFSC5lsK",
        "outputId": "5fa9a91f-f814-4873-8ec3-f465cb11b0a4"
      },
      "execution_count": 114,
      "outputs": [
        {
          "output_type": "stream",
          "name": "stdout",
          "text": [
            "[[-1.  3.  7.]\n",
            " [ 0.  0. 22.]]\n"
          ]
        }
      ]
    },
    {
      "cell_type": "markdown",
      "source": [
        "The last row will correspond to the equation `0=22` which has no solution. Thus the whole linear system has no solutions. Let's see what will be on the graph. Do you expect the corresponding two lines to intersect?"
      ],
      "metadata": {
        "id": "tLUnMFPa5yrO"
      }
    },
    {
      "cell_type": "code",
      "source": [
        "plot_lines(A_2_system)"
      ],
      "metadata": {
        "colab": {
          "base_uri": "https://localhost:8080/",
          "height": 860
        },
        "id": "ddu9TPXy53nc",
        "outputId": "d65361cf-b5ad-4b84-94c6-6fb634c2d0f1"
      },
      "execution_count": 115,
      "outputs": [
        {
          "output_type": "display_data",
          "data": {
            "text/plain": [
              "<Figure size 1000x1000 with 1 Axes>"
            ],
            "image/png": "[encoded data removed]"
          },
          "metadata": {}
        }
      ]
    },
    {
      "cell_type": "markdown",
      "source": [
        "## System of Linear Equations with Infinite Number of Solutions"
      ],
      "metadata": {
        "id": "rWlv8VSm5_tR"
      }
    },
    {
      "cell_type": "code",
      "source": [
        "\n",
        "b_3 = np.array([7, -21], dtype=np.dtype(float))"
      ],
      "metadata": {
        "id": "8rCIfx_-6BVL"
      },
      "execution_count": 116,
      "outputs": []
    },
    {
      "cell_type": "code",
      "source": [
        "A_3_system = np.hstack((A_2, b_3.reshape((2, 1))))\n",
        "print(A_3_system)"
      ],
      "metadata": {
        "colab": {
          "base_uri": "https://localhost:8080/"
        },
        "id": "P9NEAW2x6E2J",
        "outputId": "5fda50aa-25ec-409c-ad69-f5bed6e88cd4"
      },
      "execution_count": 117,
      "outputs": [
        {
          "output_type": "stream",
          "name": "stdout",
          "text": [
            "[[ -1.   3.   7.]\n",
            " [  3.  -9. -21.]]\n"
          ]
        }
      ]
    },
    {
      "cell_type": "code",
      "source": [
        "# copy() matrix.\n",
        "A_3_system_res = A_3_system.copy()\n",
        "\n",
        "# Multiply row 0 by 3 and add it to the row 1.\n",
        "A_3_system_res[1] = 3 * A_3_system_res[0] + A_3_system_res[1]\n",
        "print(A_3_system_res)"
      ],
      "metadata": {
        "colab": {
          "base_uri": "https://localhost:8080/"
        },
        "id": "w-HfXbjr6Ixw",
        "outputId": "65586eda-20c0-488f-cdb6-1dc22fe35242"
      },
      "execution_count": 118,
      "outputs": [
        {
          "output_type": "stream",
          "name": "stdout",
          "text": [
            "[[-1.  3.  7.]\n",
            " [ 0.  0.  0.]]\n"
          ]
        }
      ]
    },
    {
      "cell_type": "code",
      "source": [
        "plot_lines(A_3_system)"
      ],
      "metadata": {
        "colab": {
          "base_uri": "https://localhost:8080/",
          "height": 860
        },
        "id": "0t9UpyZz6Roq",
        "outputId": "f1e3159e-1282-472d-b35f-6382463869cc"
      },
      "execution_count": 119,
      "outputs": [
        {
          "output_type": "display_data",
          "data": {
            "text/plain": [
              "<Figure size 1000x1000 with 1 Axes>"
            ],
            "image/png": "[encoded data removed]"
          },
          "metadata": {}
        }
      ]
    }
  ]
}