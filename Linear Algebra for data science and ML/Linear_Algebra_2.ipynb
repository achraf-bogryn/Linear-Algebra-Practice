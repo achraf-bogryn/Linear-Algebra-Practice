{
  "nbformat": 4,
  "nbformat_minor": 0,
  "metadata": {
    "colab": {
      "provenance": [],
      "toc_visible": true
    },
    "kernelspec": {
      "name": "python3",
      "display_name": "Python 3"
    },
    "language_info": {
      "name": "python"
    }
  },
  "cells": [
    {
      "cell_type": "markdown",
      "source": [
        "# Solving Linear Systems: 3 variables"
      ],
      "metadata": {
        "id": "MUlO1a90cnji"
      }
    },
    {
      "cell_type": "markdown",
      "source": [
        "## Representing and Solving a System of Linear Equations using Matrices"
      ],
      "metadata": {
        "id": "_vihZEZVeStU"
      }
    },
    {
      "cell_type": "markdown",
      "source": [
        "### Solving Systems of Linear Equations using Matrices\n",
        "\n",
        "Let's prepare to solve the linear system `(1)`using `NumPy`.\n",
        "`A` will be a matrix, each row will represent one equation in the system and each column will correspond to the variable `x1`,`x2`,`x3` And `b`\n",
        " is a 1-D array of the free (right side) coefficients:"
      ],
      "metadata": {
        "id": "8shOF1VpctZn"
      }
    },
    {
      "cell_type": "code",
      "source": [
        "import numpy as np\n",
        "A = np.array([\n",
        "        [4, -3, 1],\n",
        "        [2, 1, 3],\n",
        "        [-1, 2, -5]\n",
        "    ], dtype=np.dtype(float))\n",
        "\n",
        "b = np.array([-10, 0, 17], dtype=np.dtype(float))\n",
        "\n",
        "print(\"Matrix A:\")\n",
        "print(A)\n",
        "print(\"\\nArray b:\")\n",
        "print(b)"
      ],
      "metadata": {
        "colab": {
          "base_uri": "https://localhost:8080/"
        },
        "id": "PMPiyYGEcuL5",
        "outputId": "89deec44-8988-4c1e-c431-af65b03fc613"
      },
      "execution_count": 2,
      "outputs": [
        {
          "output_type": "stream",
          "name": "stdout",
          "text": [
            "Matrix A:\n",
            "[[ 4. -3.  1.]\n",
            " [ 2.  1.  3.]\n",
            " [-1.  2. -5.]]\n",
            "\n",
            "Array b:\n",
            "[-10.   0.  17.]\n"
          ]
        }
      ]
    },
    {
      "cell_type": "code",
      "execution_count": 3,
      "metadata": {
        "colab": {
          "base_uri": "https://localhost:8080/"
        },
        "id": "lV-p6tSxcjWt",
        "outputId": "8ee80b6a-89df-496d-af0f-7a85496c943f"
      },
      "outputs": [
        {
          "output_type": "stream",
          "name": "stdout",
          "text": [
            "Shape of A: (3, 3)\n",
            "Shape of b: (3,)\n"
          ]
        }
      ],
      "source": [
        "print(f\"Shape of A: {np.shape(A)}\")\n",
        "print(f\"Shape of b: {np.shape(b)}\")"
      ]
    },
    {
      "cell_type": "code",
      "source": [
        "x = np.linalg.solve(A, b)\n",
        "\n",
        "print(f\"Solution: {x}\")"
      ],
      "metadata": {
        "colab": {
          "base_uri": "https://localhost:8080/"
        },
        "id": "gIvxRGmUdROE",
        "outputId": "47af2c27-7a3f-406d-a439-ef1827848512"
      },
      "execution_count": 4,
      "outputs": [
        {
          "output_type": "stream",
          "name": "stdout",
          "text": [
            "Solution: [ 1.  4. -2.]\n"
          ]
        }
      ]
    },
    {
      "cell_type": "markdown",
      "source": [
        "###  Evaluating the Determinant of a Matrix\n",
        "\n",
        "Matrix `A` corresponding to the linear system `(1)`is a `square matrix` - it has the same number of rows and columns. In the case of a square matrix it is possible to calculate its determinant - a real number that characterizes some properties of the matrix. `A` linear system containing three equations with three unknown variables will have one solution if and only if the matrix `A`\n",
        " has a non-zero determinant.\n",
        "\n",
        "Let's calculate the determinant using `np.linalg.det(A)` function:"
      ],
      "metadata": {
        "id": "yNMd7dxTdgsl"
      }
    },
    {
      "cell_type": "code",
      "source": [
        "d = np.linalg.det(A)\n",
        "\n",
        "print(f\"Determinant of matrix A: {d:.2f}\")"
      ],
      "metadata": {
        "colab": {
          "base_uri": "https://localhost:8080/"
        },
        "id": "2U15W0LNdVTp",
        "outputId": "bfd872d5-312a-43f6-d3b7-a9437fd25639"
      },
      "execution_count": 5,
      "outputs": [
        {
          "output_type": "stream",
          "name": "stdout",
          "text": [
            "Determinant of matrix A: -60.00\n"
          ]
        }
      ]
    },
    {
      "cell_type": "markdown",
      "source": [
        "## Solving System of Linear Equations using Row Reduction"
      ],
      "metadata": {
        "id": "aBf9tBsWeZaQ"
      }
    },
    {
      "cell_type": "markdown",
      "source": [
        "###  Preparation for Row Reduction"
      ],
      "metadata": {
        "id": "sVDo8rOtea1u"
      }
    },
    {
      "cell_type": "code",
      "source": [
        "A_system = np.hstack((A, b.reshape((3, 1))))\n",
        "\n",
        "print(A_system)"
      ],
      "metadata": {
        "colab": {
          "base_uri": "https://localhost:8080/"
        },
        "id": "7ZBS6SNAeeWP",
        "outputId": "61e33910-07f9-4e86-a22b-17f6e62fc069"
      },
      "execution_count": 6,
      "outputs": [
        {
          "output_type": "stream",
          "name": "stdout",
          "text": [
            "[[  4.  -3.   1. -10.]\n",
            " [  2.   1.   3.   0.]\n",
            " [ -1.   2.  -5.  17.]]\n"
          ]
        }
      ]
    },
    {
      "cell_type": "markdown",
      "source": [
        "### Functions for Elementary Operations\n",
        "\n",
        "Let's review `elementary operations`, which do not change the solution set of a linear system:\n",
        "\n",
        "* Multiply any row by a non-zero number\n",
        "* Add two rows and exchange one of the original rows with the result of the addition\n",
        "* Swap rows"
      ],
      "metadata": {
        "id": "HKxhP9Iveks5"
      }
    },
    {
      "cell_type": "code",
      "source": [
        "# exchange row_num of the matrix M with its multiple by row_num_multiple\n",
        "# Note: for simplicity, you can drop check if  row_num_multiple has non-zero value, which makes the operation valid\n",
        "def MultiplyRow(M, row_num, row_num_multiple):\n",
        "    # .copy() function is required here to keep the original matrix without any changes\n",
        "    M_new = M.copy()\n",
        "    M_new[row_num] = M_new[row_num] * row_num_multiple\n",
        "    return M_new\n",
        "\n",
        "print(\"Original matrix:\")\n",
        "print(A_system)\n",
        "print(\"\\nMatrix after its third row is multiplied by 2:\")\n",
        "# remember that indexing in Python starts from 0, thus index 2 will correspond to the third row\n",
        "print(MultiplyRow(A_system,2,2))"
      ],
      "metadata": {
        "colab": {
          "base_uri": "https://localhost:8080/"
        },
        "id": "i72uyj46eCtU",
        "outputId": "1813a0ff-8f13-412c-e7ed-e8c39e7f08c3"
      },
      "execution_count": 7,
      "outputs": [
        {
          "output_type": "stream",
          "name": "stdout",
          "text": [
            "Original matrix:\n",
            "[[  4.  -3.   1. -10.]\n",
            " [  2.   1.   3.   0.]\n",
            " [ -1.   2.  -5.  17.]]\n",
            "\n",
            "Matrix after its third row is multiplied by 2:\n",
            "[[  4.  -3.   1. -10.]\n",
            " [  2.   1.   3.   0.]\n",
            " [ -2.   4. -10.  34.]]\n"
          ]
        }
      ]
    },
    {
      "cell_type": "code",
      "source": [
        "# multiply row_num_1 by row_num_1_multiple and add it to the row_num_2,\n",
        "# exchanging row_num_2 of the matrix M in the result\n",
        "def AddRows(M, row_num_1, row_num_2, row_num_1_multiple):\n",
        "    M_new = M.copy()\n",
        "    M_new[row_num_2] = row_num_1_multiple * M_new[row_num_1] + M_new[row_num_2]\n",
        "    return M_new\n",
        "\n",
        "print(\"Original matrix:\")\n",
        "print(A_system)\n",
        "print(\"\\nMatrix after exchange of the third row with the sum of itself and second row multiplied by 1/2:\")\n",
        "print(AddRows(A_system,1,2,1/2))"
      ],
      "metadata": {
        "colab": {
          "base_uri": "https://localhost:8080/"
        },
        "id": "_knQjAWge-3a",
        "outputId": "523bd0e3-1732-4fc4-f08d-f7ee24604e9a"
      },
      "execution_count": 8,
      "outputs": [
        {
          "output_type": "stream",
          "name": "stdout",
          "text": [
            "Original matrix:\n",
            "[[  4.  -3.   1. -10.]\n",
            " [  2.   1.   3.   0.]\n",
            " [ -1.   2.  -5.  17.]]\n",
            "\n",
            "Matrix after exchange of the third row with the sum of itself and second row multiplied by 1/2:\n",
            "[[  4.   -3.    1.  -10. ]\n",
            " [  2.    1.    3.    0. ]\n",
            " [  0.    2.5  -3.5  17. ]]\n"
          ]
        }
      ]
    },
    {
      "cell_type": "code",
      "source": [
        "# exchange row_num_1 and row_num_2 of the matrix M\n",
        "def SwapRows(M, row_num_1, row_num_2):\n",
        "    M_new = M.copy()\n",
        "    M_new[[row_num_1, row_num_2]] = M_new[[row_num_2, row_num_1]]\n",
        "    return M_new\n",
        "\n",
        "print(\"Original matrix:\")\n",
        "print(A_system)\n",
        "print(\"\\nMatrix after exchange its first and third rows:\")\n",
        "print(SwapRows(A_system,0,2))"
      ],
      "metadata": {
        "colab": {
          "base_uri": "https://localhost:8080/"
        },
        "id": "_Y-E_cKMfBYN",
        "outputId": "84957630-80bd-43e1-8856-04415431e238"
      },
      "execution_count": 9,
      "outputs": [
        {
          "output_type": "stream",
          "name": "stdout",
          "text": [
            "Original matrix:\n",
            "[[  4.  -3.   1. -10.]\n",
            " [  2.   1.   3.   0.]\n",
            " [ -1.   2.  -5.  17.]]\n",
            "\n",
            "Matrix after exchange its first and third rows:\n",
            "[[ -1.   2.  -5.  17.]\n",
            " [  2.   1.   3.   0.]\n",
            " [  4.  -3.   1. -10.]]\n"
          ]
        }
      ]
    },
    {
      "cell_type": "markdown",
      "source": [
        "###  Row Reduction and Solution of the Linear System"
      ],
      "metadata": {
        "id": "O_mb6DxufU6e"
      }
    },
    {
      "cell_type": "code",
      "source": [
        "A_ref = SwapRows(A_system,0,2)\n",
        "# Note: ref is an abbreviation of the row echelon form (row reduced form)\n",
        "print(A_ref)"
      ],
      "metadata": {
        "colab": {
          "base_uri": "https://localhost:8080/"
        },
        "id": "dt9OE5tFfVkz",
        "outputId": "7c03f4b7-9395-4349-dff0-4e3b5a9d7cb7"
      },
      "execution_count": 12,
      "outputs": [
        {
          "output_type": "stream",
          "name": "stdout",
          "text": [
            "[[ -1.   2.  -5.  17.]\n",
            " [  2.   1.   3.   0.]\n",
            " [  4.  -3.   1. -10.]]\n"
          ]
        }
      ]
    },
    {
      "cell_type": "code",
      "source": [
        "# multiply row 0 of the new matrix A_ref by 2 and add it to the row 1\n",
        "A_ref = AddRows(A_ref,0,1,2)\n",
        "print(A_ref)"
      ],
      "metadata": {
        "colab": {
          "base_uri": "https://localhost:8080/"
        },
        "id": "HsBh6lmEfYku",
        "outputId": "02e669f5-787b-4dfa-d986-8a34c4e6b048"
      },
      "execution_count": 11,
      "outputs": [
        {
          "output_type": "stream",
          "name": "stdout",
          "text": [
            "[[ -1.   2.  -5.  17.]\n",
            " [  0.   5.  -7.  34.]\n",
            " [  4.  -3.   1. -10.]]\n"
          ]
        }
      ]
    },
    {
      "cell_type": "code",
      "source": [
        "A_ref = AddRows(A_ref,0,2,4)\n",
        "print(A_ref)"
      ],
      "metadata": {
        "colab": {
          "base_uri": "https://localhost:8080/"
        },
        "id": "dN2Dl92Wfeud",
        "outputId": "a668406a-1b72-4025-e9f2-013d9489f799"
      },
      "execution_count": 13,
      "outputs": [
        {
          "output_type": "stream",
          "name": "stdout",
          "text": [
            "[[ -1.   2.  -5.  17.]\n",
            " [  2.   1.   3.   0.]\n",
            " [  0.   5. -19.  58.]]\n"
          ]
        }
      ]
    },
    {
      "cell_type": "code",
      "source": [
        "# multiply row 2 of the new matrix A_ref by -1/12\n",
        "A_ref = MultiplyRow(A_ref,2,-1/12)\n",
        "print(A_ref)"
      ],
      "metadata": {
        "colab": {
          "base_uri": "https://localhost:8080/"
        },
        "id": "Fl6AZ7IUfhVe",
        "outputId": "f654026c-61a1-464a-c460-d9d6f21829a6"
      },
      "execution_count": 14,
      "outputs": [
        {
          "output_type": "stream",
          "name": "stdout",
          "text": [
            "[[-1.          2.         -5.         17.        ]\n",
            " [ 2.          1.          3.          0.        ]\n",
            " [-0.         -0.41666667  1.58333333 -4.83333333]]\n"
          ]
        }
      ]
    },
    {
      "cell_type": "code",
      "source": [
        "x_3 = -2\n",
        "x_2 = (A_ref[1,3] - A_ref[1,2] * x_3) / A_ref[1,1]\n",
        "x_1 = (A_ref[0,3] - A_ref[0,2] * x_3 - A_ref[0,1] * x_2) / A_ref[0,0]\n",
        "\n",
        "print(x_1, x_2, x_3)"
      ],
      "metadata": {
        "colab": {
          "base_uri": "https://localhost:8080/"
        },
        "id": "hvrcJnhhfrnu",
        "outputId": "10c1a06a-1627-492f-b894-4ed82f511dcb"
      },
      "execution_count": 15,
      "outputs": [
        {
          "output_type": "stream",
          "name": "stdout",
          "text": [
            "5.0 6.0 -2\n"
          ]
        }
      ]
    },
    {
      "cell_type": "markdown",
      "source": [
        "## System of Linear Equations with No Solutions"
      ],
      "metadata": {
        "id": "B_b3Q3eHfw10"
      }
    },
    {
      "cell_type": "code",
      "source": [
        "A_2= np.array([\n",
        "        [1, 1, 1],\n",
        "        [0, 1, -3],\n",
        "        [2, 1, 5]\n",
        "    ], dtype=np.dtype(float))\n",
        "\n",
        "b_2 = np.array([2, 1, 0], dtype=np.dtype(float))\n",
        "\n",
        "d_2 = np.linalg.det(A_2)"
      ],
      "metadata": {
        "id": "2I7W5c8Ofxcf"
      },
      "execution_count": 16,
      "outputs": []
    },
    {
      "cell_type": "code",
      "source": [
        "A_2_system = np.hstack((A_2, b_2.reshape((3, 1))))\n",
        "print(A_2_system)"
      ],
      "metadata": {
        "colab": {
          "base_uri": "https://localhost:8080/"
        },
        "id": "TUAAXTHMf4PD",
        "outputId": "9b0da1aa-15fa-409a-e32c-918fbe5a5643"
      },
      "execution_count": 17,
      "outputs": [
        {
          "output_type": "stream",
          "name": "stdout",
          "text": [
            "[[ 1.  1.  1.  2.]\n",
            " [ 0.  1. -3.  1.]\n",
            " [ 2.  1.  5.  0.]]\n"
          ]
        }
      ]
    },
    {
      "cell_type": "code",
      "source": [
        "# multiply row 0 by -2 and add it to the row 1\n",
        "A_2_ref = AddRows(A_2_system,0,2,-2)\n",
        "print(A_2_ref)"
      ],
      "metadata": {
        "colab": {
          "base_uri": "https://localhost:8080/"
        },
        "id": "LowSH1r_f7o2",
        "outputId": "6c8764e6-99fe-441e-a832-4d7a3bda27fc"
      },
      "execution_count": 18,
      "outputs": [
        {
          "output_type": "stream",
          "name": "stdout",
          "text": [
            "[[ 1.  1.  1.  2.]\n",
            " [ 0.  1. -3.  1.]\n",
            " [ 0. -1.  3. -4.]]\n"
          ]
        }
      ]
    },
    {
      "cell_type": "code",
      "source": [
        "# add row 1 of the new matrix A_2_ref to the row 2\n",
        "A_2_ref = AddRows(A_2_ref,1,2,1)\n",
        "print(A_2_ref)"
      ],
      "metadata": {
        "colab": {
          "base_uri": "https://localhost:8080/"
        },
        "id": "TGBdmY7Rf8OO",
        "outputId": "c20bcf4f-83ea-4461-e14b-694052e4b37f"
      },
      "execution_count": 19,
      "outputs": [
        {
          "output_type": "stream",
          "name": "stdout",
          "text": [
            "[[ 1.  1.  1.  2.]\n",
            " [ 0.  1. -3.  1.]\n",
            " [ 0.  0.  0. -3.]]\n"
          ]
        }
      ]
    },
    {
      "cell_type": "markdown",
      "source": [
        "The last row will correspond to the equation `0=-3` which has no solution. Thus the whole linear system `(2)` has no solution."
      ],
      "metadata": {
        "id": "enmaoBHTgDYQ"
      }
    },
    {
      "cell_type": "markdown",
      "source": [
        "## System of Linear Equations with Infinite Number of Solutions"
      ],
      "metadata": {
        "id": "jHdhrtQUgOdc"
      }
    },
    {
      "cell_type": "code",
      "source": [
        "b_3 = np.array([2, 1, 3])"
      ],
      "metadata": {
        "id": "il1atNL1gLue"
      },
      "execution_count": 20,
      "outputs": []
    },
    {
      "cell_type": "code",
      "source": [
        "A_3_system = np.hstack((A_2, b_3.reshape((3, 1))))\n",
        "print(A_3_system)"
      ],
      "metadata": {
        "colab": {
          "base_uri": "https://localhost:8080/"
        },
        "id": "dNwkYy5PgUB1",
        "outputId": "e224c478-d153-4997-8a34-759766bb479b"
      },
      "execution_count": 21,
      "outputs": [
        {
          "output_type": "stream",
          "name": "stdout",
          "text": [
            "[[ 1.  1.  1.  2.]\n",
            " [ 0.  1. -3.  1.]\n",
            " [ 2.  1.  5.  3.]]\n"
          ]
        }
      ]
    },
    {
      "cell_type": "code",
      "source": [
        "# multiply row 0 of the new matrix A_3_system by -2 and add it to the row 2\n",
        "A_3_ref = AddRows(A_3_system,0,2,-2)\n",
        "print(A_3_ref)"
      ],
      "metadata": {
        "colab": {
          "base_uri": "https://localhost:8080/"
        },
        "id": "kf2PuIU2gWR-",
        "outputId": "02a36c01-dceb-41b5-d1f5-ae83ac76f355"
      },
      "execution_count": 22,
      "outputs": [
        {
          "output_type": "stream",
          "name": "stdout",
          "text": [
            "[[ 1.  1.  1.  2.]\n",
            " [ 0.  1. -3.  1.]\n",
            " [ 0. -1.  3. -1.]]\n"
          ]
        }
      ]
    },
    {
      "cell_type": "code",
      "source": [
        "# add row 1 of the new matrix A_3_ref to the row 2\n",
        "A_3_ref = AddRows(A_3_ref,1,2,1)\n",
        "print(A_3_ref)"
      ],
      "metadata": {
        "colab": {
          "base_uri": "https://localhost:8080/"
        },
        "id": "ISr5DGz4gYkm",
        "outputId": "0a007d19-df34-40fc-ba59-64f64ac2b9d7"
      },
      "execution_count": 23,
      "outputs": [
        {
          "output_type": "stream",
          "name": "stdout",
          "text": [
            "[[ 1.  1.  1.  2.]\n",
            " [ 0.  1. -3.  1.]\n",
            " [ 0.  0.  0.  0.]]\n"
          ]
        }
      ]
    }
  ]
}